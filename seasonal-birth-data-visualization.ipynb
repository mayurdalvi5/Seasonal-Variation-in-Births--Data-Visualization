{
 "cells": [
  {
   "cell_type": "code",
   "execution_count": 1,
   "id": "1f6cfb9e",
   "metadata": {
    "_cell_guid": "b1076dfc-b9ad-4769-8c92-a6c4dae69d19",
    "_uuid": "8f2839f25d086af736a60e9eeb907d3b93b6e0e5",
    "execution": {
     "iopub.execute_input": "2021-11-16T09:22:33.701915Z",
     "iopub.status.busy": "2021-11-16T09:22:33.700196Z",
     "iopub.status.idle": "2021-11-16T09:22:33.716880Z",
     "shell.execute_reply": "2021-11-16T09:22:33.717446Z",
     "shell.execute_reply.started": "2021-11-16T09:14:34.029821Z"
    },
    "papermill": {
     "duration": 0.044322,
     "end_time": "2021-11-16T09:22:33.717723",
     "exception": false,
     "start_time": "2021-11-16T09:22:33.673401",
     "status": "completed"
    },
    "tags": []
   },
   "outputs": [
    {
     "name": "stdout",
     "output_type": "stream",
     "text": [
      "/kaggle/input/seasonal-variation-in-births/BirthMonthsData.csv\n"
     ]
    }
   ],
   "source": [
    "# This Python 3 environment comes with many helpful analytics libraries installed\n",
    "# It is defined by the kaggle/python Docker image: https://github.com/kaggle/docker-python\n",
    "# For example, here's several helpful packages to load\n",
    "\n",
    "\n",
    "# Input data files are available in the read-only \"../input/\" directory\n",
    "# For example, running this (by clicking run or pressing Shift+Enter) will list all files under the input directory\n",
    "\n",
    "import os\n",
    "for dirname, _, filenames in os.walk('/kaggle/input'):\n",
    "    for filename in filenames:\n",
    "        print(os.path.join(dirname, filename))\n",
    "\n",
    "# You can write up to 20GB to the current directory (/kaggle/working/) that gets preserved as output when you create a version using \"Save & Run All\" \n",
    "# You can also write temporary files to /kaggle/temp/, but they won't be saved outside of the current session"
   ]
  },
  {
   "cell_type": "markdown",
   "id": "79f6eae3",
   "metadata": {
    "papermill": {
     "duration": 0.018578,
     "end_time": "2021-11-16T09:22:33.755925",
     "exception": false,
     "start_time": "2021-11-16T09:22:33.737347",
     "status": "completed"
    },
    "tags": []
   },
   "source": [
    "# Please UPVOTE if you like my Notebook  !! "
   ]
  },
  {
   "cell_type": "markdown",
   "id": "02b9d69b",
   "metadata": {
    "papermill": {
     "duration": 0.018776,
     "end_time": "2021-11-16T09:22:33.793690",
     "exception": false,
     "start_time": "2021-11-16T09:22:33.774914",
     "status": "completed"
    },
    "tags": []
   },
   "source": [
    "# Import Dependencies"
   ]
  },
  {
   "cell_type": "code",
   "execution_count": 2,
   "id": "0846edc1",
   "metadata": {
    "execution": {
     "iopub.execute_input": "2021-11-16T09:22:33.834910Z",
     "iopub.status.busy": "2021-11-16T09:22:33.834343Z",
     "iopub.status.idle": "2021-11-16T09:22:34.702155Z",
     "shell.execute_reply": "2021-11-16T09:22:34.701420Z",
     "shell.execute_reply.started": "2021-11-16T09:14:34.043064Z"
    },
    "papermill": {
     "duration": 0.889648,
     "end_time": "2021-11-16T09:22:34.702311",
     "exception": false,
     "start_time": "2021-11-16T09:22:33.812663",
     "status": "completed"
    },
    "tags": []
   },
   "outputs": [],
   "source": [
    "import numpy as np \n",
    "import pandas as pd\n",
    "import matplotlib.pyplot as plt\n",
    "%matplotlib inline\n",
    "import seaborn as sns\n",
    "import datetime"
   ]
  },
  {
   "cell_type": "code",
   "execution_count": 3,
   "id": "e5639a5b",
   "metadata": {
    "execution": {
     "iopub.execute_input": "2021-11-16T09:22:34.747845Z",
     "iopub.status.busy": "2021-11-16T09:22:34.747141Z",
     "iopub.status.idle": "2021-11-16T09:22:34.854625Z",
     "shell.execute_reply": "2021-11-16T09:22:34.855679Z",
     "shell.execute_reply.started": "2021-11-16T09:14:34.056052Z"
    },
    "papermill": {
     "duration": 0.133399,
     "end_time": "2021-11-16T09:22:34.855933",
     "exception": false,
     "start_time": "2021-11-16T09:22:34.722534",
     "status": "completed"
    },
    "tags": []
   },
   "outputs": [],
   "source": [
    "df = pd.read_csv('/kaggle/input/seasonal-variation-in-births/BirthMonthsData.csv')"
   ]
  },
  {
   "cell_type": "code",
   "execution_count": 4,
   "id": "9268ef96",
   "metadata": {
    "execution": {
     "iopub.execute_input": "2021-11-16T09:22:34.902149Z",
     "iopub.status.busy": "2021-11-16T09:22:34.901197Z",
     "iopub.status.idle": "2021-11-16T09:22:34.927669Z",
     "shell.execute_reply": "2021-11-16T09:22:34.928181Z",
     "shell.execute_reply.started": "2021-11-16T09:14:34.156203Z"
    },
    "papermill": {
     "duration": 0.052139,
     "end_time": "2021-11-16T09:22:34.928347",
     "exception": false,
     "start_time": "2021-11-16T09:22:34.876208",
     "status": "completed"
    },
    "tags": []
   },
   "outputs": [
    {
     "data": {
      "text/html": [
       "<div>\n",
       "<style scoped>\n",
       "    .dataframe tbody tr th:only-of-type {\n",
       "        vertical-align: middle;\n",
       "    }\n",
       "\n",
       "    .dataframe tbody tr th {\n",
       "        vertical-align: top;\n",
       "    }\n",
       "\n",
       "    .dataframe thead th {\n",
       "        text-align: right;\n",
       "    }\n",
       "</style>\n",
       "<table border=\"1\" class=\"dataframe\">\n",
       "  <thead>\n",
       "    <tr style=\"text-align: right;\">\n",
       "      <th></th>\n",
       "      <th>Country or Area</th>\n",
       "      <th>Year</th>\n",
       "      <th>Area</th>\n",
       "      <th>Month</th>\n",
       "      <th>Record Type</th>\n",
       "      <th>Reliability</th>\n",
       "      <th>Number_of_Births</th>\n",
       "    </tr>\n",
       "  </thead>\n",
       "  <tbody>\n",
       "    <tr>\n",
       "      <th>30258</th>\n",
       "      <td>Maldives</td>\n",
       "      <td>1987</td>\n",
       "      <td>Total</td>\n",
       "      <td>September</td>\n",
       "      <td>Data tabulated by year of occurrence</td>\n",
       "      <td>Final figure, complete</td>\n",
       "      <td>698.0</td>\n",
       "    </tr>\n",
       "    <tr>\n",
       "      <th>24915</th>\n",
       "      <td>Japan</td>\n",
       "      <td>2005</td>\n",
       "      <td>Total</td>\n",
       "      <td>December</td>\n",
       "      <td>Data tabulated by year of occurrence</td>\n",
       "      <td>Final figure, complete</td>\n",
       "      <td>87779.0</td>\n",
       "    </tr>\n",
       "    <tr>\n",
       "      <th>44685</th>\n",
       "      <td>Seychelles</td>\n",
       "      <td>1974</td>\n",
       "      <td>Total</td>\n",
       "      <td>October</td>\n",
       "      <td>Data tabulated by year of registration</td>\n",
       "      <td>Final figure, complete</td>\n",
       "      <td>156.0</td>\n",
       "    </tr>\n",
       "    <tr>\n",
       "      <th>11499</th>\n",
       "      <td>Cuba</td>\n",
       "      <td>2003</td>\n",
       "      <td>Total</td>\n",
       "      <td>April</td>\n",
       "      <td>Data tabulated by year of occurrence</td>\n",
       "      <td>Final figure, complete</td>\n",
       "      <td>9582.0</td>\n",
       "    </tr>\n",
       "    <tr>\n",
       "      <th>20630</th>\n",
       "      <td>Guernsey</td>\n",
       "      <td>1995</td>\n",
       "      <td>Total</td>\n",
       "      <td>Total</td>\n",
       "      <td>Data tabulated by year of occurrence</td>\n",
       "      <td>Final figure, complete</td>\n",
       "      <td>624.0</td>\n",
       "    </tr>\n",
       "  </tbody>\n",
       "</table>\n",
       "</div>"
      ],
      "text/plain": [
       "      Country or Area  Year   Area      Month  \\\n",
       "30258        Maldives  1987  Total  September   \n",
       "24915           Japan  2005  Total   December   \n",
       "44685      Seychelles  1974  Total    October   \n",
       "11499            Cuba  2003  Total      April   \n",
       "20630        Guernsey  1995  Total      Total   \n",
       "\n",
       "                                  Record Type             Reliability  \\\n",
       "30258    Data tabulated by year of occurrence  Final figure, complete   \n",
       "24915    Data tabulated by year of occurrence  Final figure, complete   \n",
       "44685  Data tabulated by year of registration  Final figure, complete   \n",
       "11499    Data tabulated by year of occurrence  Final figure, complete   \n",
       "20630    Data tabulated by year of occurrence  Final figure, complete   \n",
       "\n",
       "       Number_of_Births  \n",
       "30258             698.0  \n",
       "24915           87779.0  \n",
       "44685             156.0  \n",
       "11499            9582.0  \n",
       "20630             624.0  "
      ]
     },
     "execution_count": 4,
     "metadata": {},
     "output_type": "execute_result"
    }
   ],
   "source": [
    "df.sample(5)"
   ]
  },
  {
   "cell_type": "code",
   "execution_count": 5,
   "id": "ab757749",
   "metadata": {
    "execution": {
     "iopub.execute_input": "2021-11-16T09:22:34.974450Z",
     "iopub.status.busy": "2021-11-16T09:22:34.973886Z",
     "iopub.status.idle": "2021-11-16T09:22:34.979110Z",
     "shell.execute_reply": "2021-11-16T09:22:34.978595Z",
     "shell.execute_reply.started": "2021-11-16T09:14:34.176255Z"
    },
    "papermill": {
     "duration": 0.031262,
     "end_time": "2021-11-16T09:22:34.979241",
     "exception": false,
     "start_time": "2021-11-16T09:22:34.947979",
     "status": "completed"
    },
    "tags": []
   },
   "outputs": [
    {
     "data": {
      "text/plain": [
       "(53409, 7)"
      ]
     },
     "execution_count": 5,
     "metadata": {},
     "output_type": "execute_result"
    }
   ],
   "source": [
    "df.shape"
   ]
  },
  {
   "cell_type": "code",
   "execution_count": 6,
   "id": "e81622cb",
   "metadata": {
    "execution": {
     "iopub.execute_input": "2021-11-16T09:22:35.021703Z",
     "iopub.status.busy": "2021-11-16T09:22:35.021102Z",
     "iopub.status.idle": "2021-11-16T09:22:35.054357Z",
     "shell.execute_reply": "2021-11-16T09:22:35.055209Z",
     "shell.execute_reply.started": "2021-11-16T09:14:34.189008Z"
    },
    "papermill": {
     "duration": 0.056382,
     "end_time": "2021-11-16T09:22:35.055436",
     "exception": false,
     "start_time": "2021-11-16T09:22:34.999054",
     "status": "completed"
    },
    "tags": []
   },
   "outputs": [
    {
     "name": "stdout",
     "output_type": "stream",
     "text": [
      "<class 'pandas.core.frame.DataFrame'>\n",
      "RangeIndex: 53409 entries, 0 to 53408\n",
      "Data columns (total 7 columns):\n",
      " #   Column            Non-Null Count  Dtype  \n",
      "---  ------            --------------  -----  \n",
      " 0   Country or Area   53409 non-null  object \n",
      " 1   Year              53409 non-null  int64  \n",
      " 2   Area              53409 non-null  object \n",
      " 3   Month             53409 non-null  object \n",
      " 4   Record Type       53409 non-null  object \n",
      " 5   Reliability       53409 non-null  object \n",
      " 6   Number_of_Births  53409 non-null  float64\n",
      "dtypes: float64(1), int64(1), object(5)\n",
      "memory usage: 2.9+ MB\n"
     ]
    }
   ],
   "source": [
    "df.info()"
   ]
  },
  {
   "cell_type": "code",
   "execution_count": 7,
   "id": "c762fc40",
   "metadata": {
    "execution": {
     "iopub.execute_input": "2021-11-16T09:22:35.100544Z",
     "iopub.status.busy": "2021-11-16T09:22:35.099972Z",
     "iopub.status.idle": "2021-11-16T09:22:35.104705Z",
     "shell.execute_reply": "2021-11-16T09:22:35.105181Z",
     "shell.execute_reply.started": "2021-11-16T09:14:34.234154Z"
    },
    "papermill": {
     "duration": 0.028757,
     "end_time": "2021-11-16T09:22:35.105342",
     "exception": false,
     "start_time": "2021-11-16T09:22:35.076585",
     "status": "completed"
    },
    "tags": []
   },
   "outputs": [],
   "source": [
    "df['Number_of_Births'] = df['Number_of_Births'].astype(int)"
   ]
  },
  {
   "cell_type": "code",
   "execution_count": 8,
   "id": "98f3326f",
   "metadata": {
    "execution": {
     "iopub.execute_input": "2021-11-16T09:22:35.162393Z",
     "iopub.status.busy": "2021-11-16T09:22:35.161725Z",
     "iopub.status.idle": "2021-11-16T09:22:35.172207Z",
     "shell.execute_reply": "2021-11-16T09:22:35.171730Z",
     "shell.execute_reply.started": "2021-11-16T09:14:34.242257Z"
    },
    "papermill": {
     "duration": 0.046977,
     "end_time": "2021-11-16T09:22:35.172347",
     "exception": false,
     "start_time": "2021-11-16T09:22:35.125370",
     "status": "completed"
    },
    "tags": []
   },
   "outputs": [
    {
     "name": "stdout",
     "output_type": "stream",
     "text": [
      "<class 'pandas.core.frame.DataFrame'>\n",
      "RangeIndex: 53409 entries, 0 to 53408\n",
      "Data columns (total 7 columns):\n",
      " #   Column            Non-Null Count  Dtype \n",
      "---  ------            --------------  ----- \n",
      " 0   Country or Area   53409 non-null  object\n",
      " 1   Year              53409 non-null  int64 \n",
      " 2   Area              53409 non-null  object\n",
      " 3   Month             53409 non-null  object\n",
      " 4   Record Type       53409 non-null  object\n",
      " 5   Reliability       53409 non-null  object\n",
      " 6   Number_of_Births  53409 non-null  int64 \n",
      "dtypes: int64(2), object(5)\n",
      "memory usage: 2.9+ MB\n"
     ]
    }
   ],
   "source": [
    "df.info()"
   ]
  },
  {
   "cell_type": "markdown",
   "id": "6396f9f0",
   "metadata": {
    "papermill": {
     "duration": 0.020024,
     "end_time": "2021-11-16T09:22:35.213044",
     "exception": false,
     "start_time": "2021-11-16T09:22:35.193020",
     "status": "completed"
    },
    "tags": []
   },
   "source": [
    "#  Number of Birth Yearwise "
   ]
  },
  {
   "cell_type": "code",
   "execution_count": 9,
   "id": "cd991c30",
   "metadata": {
    "execution": {
     "iopub.execute_input": "2021-11-16T09:22:35.257396Z",
     "iopub.status.busy": "2021-11-16T09:22:35.256833Z",
     "iopub.status.idle": "2021-11-16T09:22:35.277257Z",
     "shell.execute_reply": "2021-11-16T09:22:35.276745Z",
     "shell.execute_reply.started": "2021-11-16T09:14:34.287716Z"
    },
    "papermill": {
     "duration": 0.044038,
     "end_time": "2021-11-16T09:22:35.277393",
     "exception": false,
     "start_time": "2021-11-16T09:22:35.233355",
     "status": "completed"
    },
    "tags": []
   },
   "outputs": [
    {
     "data": {
      "text/plain": [
       "Country or Area     0\n",
       "Year                0\n",
       "Area                0\n",
       "Month               0\n",
       "Record Type         0\n",
       "Reliability         0\n",
       "Number_of_Births    0\n",
       "dtype: int64"
      ]
     },
     "execution_count": 9,
     "metadata": {},
     "output_type": "execute_result"
    }
   ],
   "source": [
    "df.isnull().sum()"
   ]
  },
  {
   "cell_type": "code",
   "execution_count": 10,
   "id": "41e98227",
   "metadata": {
    "execution": {
     "iopub.execute_input": "2021-11-16T09:22:35.326385Z",
     "iopub.status.busy": "2021-11-16T09:22:35.325686Z",
     "iopub.status.idle": "2021-11-16T09:22:35.330573Z",
     "shell.execute_reply": "2021-11-16T09:22:35.331030Z",
     "shell.execute_reply.started": "2021-11-16T09:14:34.323951Z"
    },
    "papermill": {
     "duration": 0.033477,
     "end_time": "2021-11-16T09:22:35.331252",
     "exception": false,
     "start_time": "2021-11-16T09:22:35.297775",
     "status": "completed"
    },
    "tags": []
   },
   "outputs": [],
   "source": [
    "df1 = df.groupby('Year')"
   ]
  },
  {
   "cell_type": "code",
   "execution_count": 11,
   "id": "71856fac",
   "metadata": {
    "execution": {
     "iopub.execute_input": "2021-11-16T09:22:35.383694Z",
     "iopub.status.busy": "2021-11-16T09:22:35.383091Z",
     "iopub.status.idle": "2021-11-16T09:22:35.404906Z",
     "shell.execute_reply": "2021-11-16T09:22:35.404394Z",
     "shell.execute_reply.started": "2021-11-16T09:14:34.332967Z"
    },
    "papermill": {
     "duration": 0.047918,
     "end_time": "2021-11-16T09:22:35.405047",
     "exception": false,
     "start_time": "2021-11-16T09:22:35.357129",
     "status": "completed"
    },
    "tags": []
   },
   "outputs": [
    {
     "data": {
      "text/html": [
       "<div>\n",
       "<style scoped>\n",
       "    .dataframe tbody tr th:only-of-type {\n",
       "        vertical-align: middle;\n",
       "    }\n",
       "\n",
       "    .dataframe tbody tr th {\n",
       "        vertical-align: top;\n",
       "    }\n",
       "\n",
       "    .dataframe thead th {\n",
       "        text-align: right;\n",
       "    }\n",
       "</style>\n",
       "<table border=\"1\" class=\"dataframe\">\n",
       "  <thead>\n",
       "    <tr style=\"text-align: right;\">\n",
       "      <th></th>\n",
       "      <th>Country or Area</th>\n",
       "      <th>Year</th>\n",
       "      <th>Area</th>\n",
       "      <th>Month</th>\n",
       "      <th>Record Type</th>\n",
       "      <th>Reliability</th>\n",
       "      <th>Number_of_Births</th>\n",
       "    </tr>\n",
       "  </thead>\n",
       "  <tbody>\n",
       "    <tr>\n",
       "      <th>0</th>\n",
       "      <td>Åland Islands</td>\n",
       "      <td>2019</td>\n",
       "      <td>Total</td>\n",
       "      <td>Total</td>\n",
       "      <td>Data tabulated by year of occurrence</td>\n",
       "      <td>Final figure, complete</td>\n",
       "      <td>267</td>\n",
       "    </tr>\n",
       "    <tr>\n",
       "      <th>1</th>\n",
       "      <td>Åland Islands</td>\n",
       "      <td>2019</td>\n",
       "      <td>Total</td>\n",
       "      <td>January</td>\n",
       "      <td>Data tabulated by year of occurrence</td>\n",
       "      <td>Final figure, complete</td>\n",
       "      <td>28</td>\n",
       "    </tr>\n",
       "    <tr>\n",
       "      <th>2</th>\n",
       "      <td>Åland Islands</td>\n",
       "      <td>2019</td>\n",
       "      <td>Total</td>\n",
       "      <td>February</td>\n",
       "      <td>Data tabulated by year of occurrence</td>\n",
       "      <td>Final figure, complete</td>\n",
       "      <td>24</td>\n",
       "    </tr>\n",
       "    <tr>\n",
       "      <th>3</th>\n",
       "      <td>Åland Islands</td>\n",
       "      <td>2019</td>\n",
       "      <td>Total</td>\n",
       "      <td>March</td>\n",
       "      <td>Data tabulated by year of occurrence</td>\n",
       "      <td>Final figure, complete</td>\n",
       "      <td>26</td>\n",
       "    </tr>\n",
       "    <tr>\n",
       "      <th>4</th>\n",
       "      <td>Åland Islands</td>\n",
       "      <td>2019</td>\n",
       "      <td>Total</td>\n",
       "      <td>April</td>\n",
       "      <td>Data tabulated by year of occurrence</td>\n",
       "      <td>Final figure, complete</td>\n",
       "      <td>16</td>\n",
       "    </tr>\n",
       "    <tr>\n",
       "      <th>...</th>\n",
       "      <td>...</td>\n",
       "      <td>...</td>\n",
       "      <td>...</td>\n",
       "      <td>...</td>\n",
       "      <td>...</td>\n",
       "      <td>...</td>\n",
       "      <td>...</td>\n",
       "    </tr>\n",
       "    <tr>\n",
       "      <th>9100</th>\n",
       "      <td>Chile</td>\n",
       "      <td>1967</td>\n",
       "      <td>Total</td>\n",
       "      <td>February</td>\n",
       "      <td>Data tabulated by year of occurrence</td>\n",
       "      <td>Final figure, complete</td>\n",
       "      <td>19480</td>\n",
       "    </tr>\n",
       "    <tr>\n",
       "      <th>9101</th>\n",
       "      <td>Chile</td>\n",
       "      <td>1967</td>\n",
       "      <td>Total</td>\n",
       "      <td>March</td>\n",
       "      <td>Data tabulated by year of occurrence</td>\n",
       "      <td>Final figure, complete</td>\n",
       "      <td>20671</td>\n",
       "    </tr>\n",
       "    <tr>\n",
       "      <th>9102</th>\n",
       "      <td>Chile</td>\n",
       "      <td>1967</td>\n",
       "      <td>Total</td>\n",
       "      <td>April</td>\n",
       "      <td>Data tabulated by year of occurrence</td>\n",
       "      <td>Final figure, complete</td>\n",
       "      <td>19172</td>\n",
       "    </tr>\n",
       "    <tr>\n",
       "      <th>9722</th>\n",
       "      <td>China, Macao SAR</td>\n",
       "      <td>2021</td>\n",
       "      <td>Total</td>\n",
       "      <td>January</td>\n",
       "      <td>Data tabulated by year of occurrence</td>\n",
       "      <td>Provisional figure</td>\n",
       "      <td>399</td>\n",
       "    </tr>\n",
       "    <tr>\n",
       "      <th>9723</th>\n",
       "      <td>China, Macao SAR</td>\n",
       "      <td>2021</td>\n",
       "      <td>Total</td>\n",
       "      <td>February</td>\n",
       "      <td>Data tabulated by year of occurrence</td>\n",
       "      <td>Provisional figure</td>\n",
       "      <td>344</td>\n",
       "    </tr>\n",
       "  </tbody>\n",
       "</table>\n",
       "<p>275 rows × 7 columns</p>\n",
       "</div>"
      ],
      "text/plain": [
       "       Country or Area  Year   Area     Month  \\\n",
       "0        Åland Islands  2019  Total     Total   \n",
       "1        Åland Islands  2019  Total   January   \n",
       "2        Åland Islands  2019  Total  February   \n",
       "3        Åland Islands  2019  Total     March   \n",
       "4        Åland Islands  2019  Total     April   \n",
       "...                ...   ...    ...       ...   \n",
       "9100             Chile  1967  Total  February   \n",
       "9101             Chile  1967  Total     March   \n",
       "9102             Chile  1967  Total     April   \n",
       "9722  China, Macao SAR  2021  Total   January   \n",
       "9723  China, Macao SAR  2021  Total  February   \n",
       "\n",
       "                               Record Type             Reliability  \\\n",
       "0     Data tabulated by year of occurrence  Final figure, complete   \n",
       "1     Data tabulated by year of occurrence  Final figure, complete   \n",
       "2     Data tabulated by year of occurrence  Final figure, complete   \n",
       "3     Data tabulated by year of occurrence  Final figure, complete   \n",
       "4     Data tabulated by year of occurrence  Final figure, complete   \n",
       "...                                    ...                     ...   \n",
       "9100  Data tabulated by year of occurrence  Final figure, complete   \n",
       "9101  Data tabulated by year of occurrence  Final figure, complete   \n",
       "9102  Data tabulated by year of occurrence  Final figure, complete   \n",
       "9722  Data tabulated by year of occurrence      Provisional figure   \n",
       "9723  Data tabulated by year of occurrence      Provisional figure   \n",
       "\n",
       "      Number_of_Births  \n",
       "0                  267  \n",
       "1                   28  \n",
       "2                   24  \n",
       "3                   26  \n",
       "4                   16  \n",
       "...                ...  \n",
       "9100             19480  \n",
       "9101             20671  \n",
       "9102             19172  \n",
       "9722               399  \n",
       "9723               344  \n",
       "\n",
       "[275 rows x 7 columns]"
      ]
     },
     "execution_count": 11,
     "metadata": {},
     "output_type": "execute_result"
    }
   ],
   "source": [
    "df1.head()"
   ]
  },
  {
   "cell_type": "code",
   "execution_count": 12,
   "id": "08b171d9",
   "metadata": {
    "execution": {
     "iopub.execute_input": "2021-11-16T09:22:35.455376Z",
     "iopub.status.busy": "2021-11-16T09:22:35.453574Z",
     "iopub.status.idle": "2021-11-16T09:22:35.465640Z",
     "shell.execute_reply": "2021-11-16T09:22:35.466197Z",
     "shell.execute_reply.started": "2021-11-16T09:14:34.367835Z"
    },
    "papermill": {
     "duration": 0.037736,
     "end_time": "2021-11-16T09:22:35.466358",
     "exception": false,
     "start_time": "2021-11-16T09:22:35.428622",
     "status": "completed"
    },
    "tags": []
   },
   "outputs": [
    {
     "data": {
      "text/html": [
       "<div>\n",
       "<style scoped>\n",
       "    .dataframe tbody tr th:only-of-type {\n",
       "        vertical-align: middle;\n",
       "    }\n",
       "\n",
       "    .dataframe tbody tr th {\n",
       "        vertical-align: top;\n",
       "    }\n",
       "\n",
       "    .dataframe thead th {\n",
       "        text-align: right;\n",
       "    }\n",
       "</style>\n",
       "<table border=\"1\" class=\"dataframe\">\n",
       "  <thead>\n",
       "    <tr style=\"text-align: right;\">\n",
       "      <th></th>\n",
       "      <th>Year</th>\n",
       "      <th>Number_of_Births</th>\n",
       "    </tr>\n",
       "  </thead>\n",
       "  <tbody>\n",
       "    <tr>\n",
       "      <th>0</th>\n",
       "      <td>1967</td>\n",
       "      <td>714278</td>\n",
       "    </tr>\n",
       "    <tr>\n",
       "      <th>1</th>\n",
       "      <td>1968</td>\n",
       "      <td>707636</td>\n",
       "    </tr>\n",
       "    <tr>\n",
       "      <th>2</th>\n",
       "      <td>1969</td>\n",
       "      <td>10590583</td>\n",
       "    </tr>\n",
       "    <tr>\n",
       "      <th>3</th>\n",
       "      <td>1970</td>\n",
       "      <td>14888495</td>\n",
       "    </tr>\n",
       "    <tr>\n",
       "      <th>4</th>\n",
       "      <td>1971</td>\n",
       "      <td>18001149</td>\n",
       "    </tr>\n",
       "    <tr>\n",
       "      <th>5</th>\n",
       "      <td>1972</td>\n",
       "      <td>19872430</td>\n",
       "    </tr>\n",
       "    <tr>\n",
       "      <th>6</th>\n",
       "      <td>1973</td>\n",
       "      <td>29414049</td>\n",
       "    </tr>\n",
       "    <tr>\n",
       "      <th>7</th>\n",
       "      <td>1974</td>\n",
       "      <td>33641051</td>\n",
       "    </tr>\n",
       "    <tr>\n",
       "      <th>8</th>\n",
       "      <td>1975</td>\n",
       "      <td>31530591</td>\n",
       "    </tr>\n",
       "    <tr>\n",
       "      <th>9</th>\n",
       "      <td>1976</td>\n",
       "      <td>29752182</td>\n",
       "    </tr>\n",
       "    <tr>\n",
       "      <th>10</th>\n",
       "      <td>1977</td>\n",
       "      <td>26335064</td>\n",
       "    </tr>\n",
       "    <tr>\n",
       "      <th>11</th>\n",
       "      <td>1978</td>\n",
       "      <td>40620254</td>\n",
       "    </tr>\n",
       "    <tr>\n",
       "      <th>12</th>\n",
       "      <td>1979</td>\n",
       "      <td>41649912</td>\n",
       "    </tr>\n",
       "    <tr>\n",
       "      <th>13</th>\n",
       "      <td>1980</td>\n",
       "      <td>35662873</td>\n",
       "    </tr>\n",
       "    <tr>\n",
       "      <th>14</th>\n",
       "      <td>1981</td>\n",
       "      <td>35964521</td>\n",
       "    </tr>\n",
       "    <tr>\n",
       "      <th>15</th>\n",
       "      <td>1982</td>\n",
       "      <td>34942104</td>\n",
       "    </tr>\n",
       "    <tr>\n",
       "      <th>16</th>\n",
       "      <td>1983</td>\n",
       "      <td>33324213</td>\n",
       "    </tr>\n",
       "    <tr>\n",
       "      <th>17</th>\n",
       "      <td>1984</td>\n",
       "      <td>38989220</td>\n",
       "    </tr>\n",
       "    <tr>\n",
       "      <th>18</th>\n",
       "      <td>1985</td>\n",
       "      <td>42236000</td>\n",
       "    </tr>\n",
       "    <tr>\n",
       "      <th>19</th>\n",
       "      <td>1986</td>\n",
       "      <td>39247644</td>\n",
       "    </tr>\n",
       "    <tr>\n",
       "      <th>20</th>\n",
       "      <td>1987</td>\n",
       "      <td>39282964</td>\n",
       "    </tr>\n",
       "    <tr>\n",
       "      <th>21</th>\n",
       "      <td>1988</td>\n",
       "      <td>40216021</td>\n",
       "    </tr>\n",
       "    <tr>\n",
       "      <th>22</th>\n",
       "      <td>1989</td>\n",
       "      <td>39336098</td>\n",
       "    </tr>\n",
       "    <tr>\n",
       "      <th>23</th>\n",
       "      <td>1990</td>\n",
       "      <td>41526156</td>\n",
       "    </tr>\n",
       "    <tr>\n",
       "      <th>24</th>\n",
       "      <td>1991</td>\n",
       "      <td>44644847</td>\n",
       "    </tr>\n",
       "    <tr>\n",
       "      <th>25</th>\n",
       "      <td>1992</td>\n",
       "      <td>48024115</td>\n",
       "    </tr>\n",
       "    <tr>\n",
       "      <th>26</th>\n",
       "      <td>1993</td>\n",
       "      <td>45845783</td>\n",
       "    </tr>\n",
       "    <tr>\n",
       "      <th>27</th>\n",
       "      <td>1994</td>\n",
       "      <td>47555363</td>\n",
       "    </tr>\n",
       "    <tr>\n",
       "      <th>28</th>\n",
       "      <td>1995</td>\n",
       "      <td>40192174</td>\n",
       "    </tr>\n",
       "    <tr>\n",
       "      <th>29</th>\n",
       "      <td>1996</td>\n",
       "      <td>36519535</td>\n",
       "    </tr>\n",
       "    <tr>\n",
       "      <th>30</th>\n",
       "      <td>1997</td>\n",
       "      <td>39061425</td>\n",
       "    </tr>\n",
       "    <tr>\n",
       "      <th>31</th>\n",
       "      <td>1998</td>\n",
       "      <td>36166792</td>\n",
       "    </tr>\n",
       "    <tr>\n",
       "      <th>32</th>\n",
       "      <td>1999</td>\n",
       "      <td>45208223</td>\n",
       "    </tr>\n",
       "    <tr>\n",
       "      <th>33</th>\n",
       "      <td>2000</td>\n",
       "      <td>39640940</td>\n",
       "    </tr>\n",
       "    <tr>\n",
       "      <th>34</th>\n",
       "      <td>2001</td>\n",
       "      <td>45311639</td>\n",
       "    </tr>\n",
       "    <tr>\n",
       "      <th>35</th>\n",
       "      <td>2002</td>\n",
       "      <td>38754122</td>\n",
       "    </tr>\n",
       "    <tr>\n",
       "      <th>36</th>\n",
       "      <td>2003</td>\n",
       "      <td>46906355</td>\n",
       "    </tr>\n",
       "    <tr>\n",
       "      <th>37</th>\n",
       "      <td>2004</td>\n",
       "      <td>45101833</td>\n",
       "    </tr>\n",
       "    <tr>\n",
       "      <th>38</th>\n",
       "      <td>2005</td>\n",
       "      <td>45440264</td>\n",
       "    </tr>\n",
       "    <tr>\n",
       "      <th>39</th>\n",
       "      <td>2006</td>\n",
       "      <td>43922232</td>\n",
       "    </tr>\n",
       "    <tr>\n",
       "      <th>40</th>\n",
       "      <td>2007</td>\n",
       "      <td>43372748</td>\n",
       "    </tr>\n",
       "    <tr>\n",
       "      <th>41</th>\n",
       "      <td>2008</td>\n",
       "      <td>41290372</td>\n",
       "    </tr>\n",
       "    <tr>\n",
       "      <th>42</th>\n",
       "      <td>2009</td>\n",
       "      <td>44851272</td>\n",
       "    </tr>\n",
       "    <tr>\n",
       "      <th>43</th>\n",
       "      <td>2010</td>\n",
       "      <td>37042269</td>\n",
       "    </tr>\n",
       "    <tr>\n",
       "      <th>44</th>\n",
       "      <td>2011</td>\n",
       "      <td>49369739</td>\n",
       "    </tr>\n",
       "    <tr>\n",
       "      <th>45</th>\n",
       "      <td>2012</td>\n",
       "      <td>48688813</td>\n",
       "    </tr>\n",
       "    <tr>\n",
       "      <th>46</th>\n",
       "      <td>2013</td>\n",
       "      <td>50243655</td>\n",
       "    </tr>\n",
       "    <tr>\n",
       "      <th>47</th>\n",
       "      <td>2014</td>\n",
       "      <td>53264609</td>\n",
       "    </tr>\n",
       "    <tr>\n",
       "      <th>48</th>\n",
       "      <td>2015</td>\n",
       "      <td>61766415</td>\n",
       "    </tr>\n",
       "    <tr>\n",
       "      <th>49</th>\n",
       "      <td>2016</td>\n",
       "      <td>59776859</td>\n",
       "    </tr>\n",
       "    <tr>\n",
       "      <th>50</th>\n",
       "      <td>2017</td>\n",
       "      <td>58494712</td>\n",
       "    </tr>\n",
       "    <tr>\n",
       "      <th>51</th>\n",
       "      <td>2018</td>\n",
       "      <td>61841666</td>\n",
       "    </tr>\n",
       "    <tr>\n",
       "      <th>52</th>\n",
       "      <td>2019</td>\n",
       "      <td>42727336</td>\n",
       "    </tr>\n",
       "    <tr>\n",
       "      <th>53</th>\n",
       "      <td>2020</td>\n",
       "      <td>15835565</td>\n",
       "    </tr>\n",
       "    <tr>\n",
       "      <th>54</th>\n",
       "      <td>2021</td>\n",
       "      <td>2145591</td>\n",
       "    </tr>\n",
       "  </tbody>\n",
       "</table>\n",
       "</div>"
      ],
      "text/plain": [
       "    Year  Number_of_Births\n",
       "0   1967            714278\n",
       "1   1968            707636\n",
       "2   1969          10590583\n",
       "3   1970          14888495\n",
       "4   1971          18001149\n",
       "5   1972          19872430\n",
       "6   1973          29414049\n",
       "7   1974          33641051\n",
       "8   1975          31530591\n",
       "9   1976          29752182\n",
       "10  1977          26335064\n",
       "11  1978          40620254\n",
       "12  1979          41649912\n",
       "13  1980          35662873\n",
       "14  1981          35964521\n",
       "15  1982          34942104\n",
       "16  1983          33324213\n",
       "17  1984          38989220\n",
       "18  1985          42236000\n",
       "19  1986          39247644\n",
       "20  1987          39282964\n",
       "21  1988          40216021\n",
       "22  1989          39336098\n",
       "23  1990          41526156\n",
       "24  1991          44644847\n",
       "25  1992          48024115\n",
       "26  1993          45845783\n",
       "27  1994          47555363\n",
       "28  1995          40192174\n",
       "29  1996          36519535\n",
       "30  1997          39061425\n",
       "31  1998          36166792\n",
       "32  1999          45208223\n",
       "33  2000          39640940\n",
       "34  2001          45311639\n",
       "35  2002          38754122\n",
       "36  2003          46906355\n",
       "37  2004          45101833\n",
       "38  2005          45440264\n",
       "39  2006          43922232\n",
       "40  2007          43372748\n",
       "41  2008          41290372\n",
       "42  2009          44851272\n",
       "43  2010          37042269\n",
       "44  2011          49369739\n",
       "45  2012          48688813\n",
       "46  2013          50243655\n",
       "47  2014          53264609\n",
       "48  2015          61766415\n",
       "49  2016          59776859\n",
       "50  2017          58494712\n",
       "51  2018          61841666\n",
       "52  2019          42727336\n",
       "53  2020          15835565\n",
       "54  2021           2145591"
      ]
     },
     "execution_count": 12,
     "metadata": {},
     "output_type": "execute_result"
    }
   ],
   "source": [
    "df1['Number_of_Births'].sum().reset_index()"
   ]
  },
  {
   "cell_type": "code",
   "execution_count": 13,
   "id": "f3101e32",
   "metadata": {
    "execution": {
     "iopub.execute_input": "2021-11-16T09:22:35.515728Z",
     "iopub.status.busy": "2021-11-16T09:22:35.515092Z",
     "iopub.status.idle": "2021-11-16T09:22:35.520710Z",
     "shell.execute_reply": "2021-11-16T09:22:35.521316Z",
     "shell.execute_reply.started": "2021-11-16T09:14:34.386422Z"
    },
    "papermill": {
     "duration": 0.032159,
     "end_time": "2021-11-16T09:22:35.521489",
     "exception": false,
     "start_time": "2021-11-16T09:22:35.489330",
     "status": "completed"
    },
    "tags": []
   },
   "outputs": [],
   "source": [
    "df2 = df1['Number_of_Births'].sum().reset_index()\n",
    "df2.columns = ['Year','Total_Birth']\n"
   ]
  },
  {
   "cell_type": "code",
   "execution_count": 14,
   "id": "8c4d2b0c",
   "metadata": {
    "execution": {
     "iopub.execute_input": "2021-11-16T09:22:35.570613Z",
     "iopub.status.busy": "2021-11-16T09:22:35.570046Z",
     "iopub.status.idle": "2021-11-16T09:22:37.147556Z",
     "shell.execute_reply": "2021-11-16T09:22:37.148036Z",
     "shell.execute_reply.started": "2021-11-16T09:14:34.395338Z"
    },
    "papermill": {
     "duration": 1.602255,
     "end_time": "2021-11-16T09:22:37.148213",
     "exception": false,
     "start_time": "2021-11-16T09:22:35.545958",
     "status": "completed"
    },
    "tags": []
   },
   "outputs": [
    {
     "data": {
      "image/png": "[encoded data removed]",
      "text/plain": [
       "<Figure size 1728x576 with 1 Axes>"
      ]
     },
     "metadata": {
      "needs_background": "light"
     },
     "output_type": "display_data"
    }
   ],
   "source": [
    "ax=sns.catplot(x = \"Year\", y=\"Total_Birth\", kind ='bar', data =df2, height = 8 , aspect = 3,legend = True)\n",
    "\n",
    "plt.title(\" Number of birth Year Wise \")\n",
    "plt.xlabel('Year')\n",
    "plt.ylabel('Total number of Births')\n",
    "\n",
    "\n",
    "\n",
    "plt.grid(True)"
   ]
  },
  {
   "cell_type": "markdown",
   "id": "5b413cc0",
   "metadata": {
    "papermill": {
     "duration": 0.022375,
     "end_time": "2021-11-16T09:22:37.193388",
     "exception": false,
     "start_time": "2021-11-16T09:22:37.171013",
     "status": "completed"
    },
    "tags": []
   },
   "source": [
    "# Data Cleaning"
   ]
  },
  {
   "cell_type": "code",
   "execution_count": 15,
   "id": "ca355f85",
   "metadata": {
    "execution": {
     "iopub.execute_input": "2021-11-16T09:22:37.242547Z",
     "iopub.status.busy": "2021-11-16T09:22:37.241956Z",
     "iopub.status.idle": "2021-11-16T09:22:37.250011Z",
     "shell.execute_reply": "2021-11-16T09:22:37.250537Z",
     "shell.execute_reply.started": "2021-11-16T09:14:36.327602Z"
    },
    "papermill": {
     "duration": 0.034584,
     "end_time": "2021-11-16T09:22:37.250711",
     "exception": false,
     "start_time": "2021-11-16T09:22:37.216127",
     "status": "completed"
    },
    "tags": []
   },
   "outputs": [
    {
     "data": {
      "text/plain": [
       "Total                 4072\n",
       "January               4072\n",
       "April                 4068\n",
       "March                 4062\n",
       "May                   4056\n",
       "February              4054\n",
       "July                  4051\n",
       "June                  4047\n",
       "October               4041\n",
       "September             4038\n",
       "August                4037\n",
       "November              4031\n",
       "December              4024\n",
       "Unknown                491\n",
       "January - March         72\n",
       "April - June            65\n",
       "July - September        64\n",
       "October - December      64\n",
       "Name: Month, dtype: int64"
      ]
     },
     "execution_count": 15,
     "metadata": {},
     "output_type": "execute_result"
    }
   ],
   "source": [
    "df['Month'].value_counts()"
   ]
  },
  {
   "cell_type": "code",
   "execution_count": 16,
   "id": "bdd68e63",
   "metadata": {
    "execution": {
     "iopub.execute_input": "2021-11-16T09:22:37.301289Z",
     "iopub.status.busy": "2021-11-16T09:22:37.300622Z",
     "iopub.status.idle": "2021-11-16T09:22:37.303494Z",
     "shell.execute_reply": "2021-11-16T09:22:37.303026Z",
     "shell.execute_reply.started": "2021-11-16T09:14:36.343558Z"
    },
    "papermill": {
     "duration": 0.029947,
     "end_time": "2021-11-16T09:22:37.303622",
     "exception": false,
     "start_time": "2021-11-16T09:22:37.273675",
     "status": "completed"
    },
    "tags": []
   },
   "outputs": [],
   "source": [
    "df1 = df"
   ]
  },
  {
   "cell_type": "code",
   "execution_count": 17,
   "id": "359e9b64",
   "metadata": {
    "execution": {
     "iopub.execute_input": "2021-11-16T09:22:37.359392Z",
     "iopub.status.busy": "2021-11-16T09:22:37.358784Z",
     "iopub.status.idle": "2021-11-16T09:22:37.368245Z",
     "shell.execute_reply": "2021-11-16T09:22:37.367680Z",
     "shell.execute_reply.started": "2021-11-16T09:14:36.353994Z"
    },
    "papermill": {
     "duration": 0.041368,
     "end_time": "2021-11-16T09:22:37.368382",
     "exception": false,
     "start_time": "2021-11-16T09:22:37.327014",
     "status": "completed"
    },
    "tags": []
   },
   "outputs": [],
   "source": [
    "df1 = df1.drop(df1[df1['Month'] == 'Total'].index)\n"
   ]
  },
  {
   "cell_type": "code",
   "execution_count": 18,
   "id": "1550428f",
   "metadata": {
    "execution": {
     "iopub.execute_input": "2021-11-16T09:22:37.424523Z",
     "iopub.status.busy": "2021-11-16T09:22:37.417709Z",
     "iopub.status.idle": "2021-11-16T09:22:37.465004Z",
     "shell.execute_reply": "2021-11-16T09:22:37.464438Z",
     "shell.execute_reply.started": "2021-11-16T09:14:36.379057Z"
    },
    "papermill": {
     "duration": 0.073216,
     "end_time": "2021-11-16T09:22:37.465146",
     "exception": false,
     "start_time": "2021-11-16T09:22:37.391930",
     "status": "completed"
    },
    "tags": []
   },
   "outputs": [],
   "source": [
    "df1 = df1.drop(df1[df1['Month'] == 'January - March'].index)\n",
    "df1 = df1.drop(df1[df1['Month'] == 'April - June'].index)\n",
    "df1 = df1.drop(df1[df1['Month'] == 'July - September'].index)\n",
    "df1 = df1.drop(df1[df1['Month'] == 'October - December'].index)\n",
    "df1 = df1.drop(df1[df1['Month'] == 'Unknown'].index)"
   ]
  },
  {
   "cell_type": "code",
   "execution_count": 19,
   "id": "3d4e64c7",
   "metadata": {
    "execution": {
     "iopub.execute_input": "2021-11-16T09:22:37.515363Z",
     "iopub.status.busy": "2021-11-16T09:22:37.514825Z",
     "iopub.status.idle": "2021-11-16T09:22:37.526589Z",
     "shell.execute_reply": "2021-11-16T09:22:37.527101Z",
     "shell.execute_reply.started": "2021-11-16T09:14:36.459684Z"
    },
    "papermill": {
     "duration": 0.037917,
     "end_time": "2021-11-16T09:22:37.527272",
     "exception": false,
     "start_time": "2021-11-16T09:22:37.489355",
     "status": "completed"
    },
    "tags": []
   },
   "outputs": [],
   "source": [
    "df1 = df1.drop(df1[df1['Record Type'] == 'Vital statistics from census'].index)"
   ]
  },
  {
   "cell_type": "markdown",
   "id": "1d7dfca5",
   "metadata": {
    "papermill": {
     "duration": 0.023062,
     "end_time": "2021-11-16T09:22:37.573871",
     "exception": false,
     "start_time": "2021-11-16T09:22:37.550809",
     "status": "completed"
    },
    "tags": []
   },
   "source": [
    "# Month-wise Record Type "
   ]
  },
  {
   "cell_type": "code",
   "execution_count": 20,
   "id": "276a9afc",
   "metadata": {
    "execution": {
     "iopub.execute_input": "2021-11-16T09:22:37.629660Z",
     "iopub.status.busy": "2021-11-16T09:22:37.627766Z",
     "iopub.status.idle": "2021-11-16T09:22:37.633555Z",
     "shell.execute_reply": "2021-11-16T09:22:37.634104Z",
     "shell.execute_reply.started": "2021-11-16T09:14:36.481007Z"
    },
    "papermill": {
     "duration": 0.037203,
     "end_time": "2021-11-16T09:22:37.634276",
     "exception": false,
     "start_time": "2021-11-16T09:22:37.597073",
     "status": "completed"
    },
    "tags": []
   },
   "outputs": [
    {
     "data": {
      "text/plain": [
       "Data tabulated by year of occurrence      46129\n",
       "Data tabulated by year of registration     7267\n",
       "Vital statistics from census                 13\n",
       "Name: Record Type, dtype: int64"
      ]
     },
     "execution_count": 20,
     "metadata": {},
     "output_type": "execute_result"
    }
   ],
   "source": [
    "df['Record Type'].value_counts()"
   ]
  },
  {
   "cell_type": "code",
   "execution_count": 21,
   "id": "56b97446",
   "metadata": {
    "execution": {
     "iopub.execute_input": "2021-11-16T09:22:37.688472Z",
     "iopub.status.busy": "2021-11-16T09:22:37.687792Z",
     "iopub.status.idle": "2021-11-16T09:22:38.297584Z",
     "shell.execute_reply": "2021-11-16T09:22:38.298263Z",
     "shell.execute_reply.started": "2021-11-16T09:14:36.497861Z"
    },
    "papermill": {
     "duration": 0.640744,
     "end_time": "2021-11-16T09:22:38.298438",
     "exception": false,
     "start_time": "2021-11-16T09:22:37.657694",
     "status": "completed"
    },
    "tags": []
   },
   "outputs": [
    {
     "name": "stderr",
     "output_type": "stream",
     "text": [
      "/opt/conda/lib/python3.7/site-packages/seaborn/_decorators.py:43: FutureWarning: Pass the following variable as a keyword arg: x. From version 0.12, the only valid positional argument will be `data`, and passing other arguments without an explicit keyword will result in an error or misinterpretation.\n",
      "  FutureWarning\n"
     ]
    },
    {
     "data": {
      "image/png": "[encoded data removed]",
      "text/plain": [
       "<Figure size 1152x576 with 1 Axes>"
      ]
     },
     "metadata": {
      "needs_background": "light"
     },
     "output_type": "display_data"
    }
   ],
   "source": [
    "plt.figure(figsize= (16,8))\n",
    "sns.countplot(df['Month'], hue = df['Record Type'])\n",
    "plt.tight_layout()\n",
    "plt.legend( \n",
    "          title =\"Record Type\",\n",
    "         \n",
    "          bbox_to_anchor =(0.85, 0,0, 1))\n",
    "plt.grid(True)\n",
    "plt.show()"
   ]
  },
  {
   "cell_type": "markdown",
   "id": "52d4b507",
   "metadata": {
    "papermill": {
     "duration": 0.024886,
     "end_time": "2021-11-16T09:22:38.348548",
     "exception": false,
     "start_time": "2021-11-16T09:22:38.323662",
     "status": "completed"
    },
    "tags": []
   },
   "source": [
    "# Top 25 Country with maximun number of Birth"
   ]
  },
  {
   "cell_type": "code",
   "execution_count": 22,
   "id": "a052b686",
   "metadata": {
    "execution": {
     "iopub.execute_input": "2021-11-16T09:22:38.407510Z",
     "iopub.status.busy": "2021-11-16T09:22:38.406527Z",
     "iopub.status.idle": "2021-11-16T09:22:38.414807Z",
     "shell.execute_reply": "2021-11-16T09:22:38.415260Z",
     "shell.execute_reply.started": "2021-11-16T09:14:37.308400Z"
    },
    "papermill": {
     "duration": 0.042192,
     "end_time": "2021-11-16T09:22:38.415432",
     "exception": false,
     "start_time": "2021-11-16T09:22:38.373240",
     "status": "completed"
    },
    "tags": []
   },
   "outputs": [],
   "source": [
    "raw_company_list = df[\"Country or Area\"].value_counts()[0:25].reset_index()\n",
    "company_list = raw_company_list['index'].values.tolist()\n",
    "data = df[df['Country or Area'].isin(company_list)]"
   ]
  },
  {
   "cell_type": "code",
   "execution_count": 23,
   "id": "95bbb87b",
   "metadata": {
    "execution": {
     "iopub.execute_input": "2021-11-16T09:22:38.468200Z",
     "iopub.status.busy": "2021-11-16T09:22:38.467284Z",
     "iopub.status.idle": "2021-11-16T09:22:38.844711Z",
     "shell.execute_reply": "2021-11-16T09:22:38.845179Z",
     "shell.execute_reply.started": "2021-11-16T09:14:37.333287Z"
    },
    "papermill": {
     "duration": 0.405461,
     "end_time": "2021-11-16T09:22:38.845347",
     "exception": false,
     "start_time": "2021-11-16T09:22:38.439886",
     "status": "completed"
    },
    "tags": []
   },
   "outputs": [
    {
     "data": {
      "image/png": "[encoded data removed]",
      "text/plain": [
       "<Figure size 2160x576 with 1 Axes>"
      ]
     },
     "metadata": {
      "needs_background": "light"
     },
     "output_type": "display_data"
    }
   ],
   "source": [
    "plt.figure(figsize = (30,8))\n",
    "sns.countplot(data = data, x = 'Country or Area')\n",
    "plt.grid(True)\n",
    "plt.xticks(rotation=45)\n",
    "plt.xlabel(\"Country\")\n",
    "plt.ylabel(\" Total Number of Birth\")\n",
    "plt.title('Top 25 Country having maximun number of Birth')\n",
    "plt.show()"
   ]
  },
  {
   "cell_type": "markdown",
   "id": "c574cdfa",
   "metadata": {
    "papermill": {
     "duration": 0.028272,
     "end_time": "2021-11-16T09:22:38.901046",
     "exception": false,
     "start_time": "2021-11-16T09:22:38.872774",
     "status": "completed"
    },
    "tags": []
   },
   "source": [
    "# Reliability Distribution"
   ]
  },
  {
   "cell_type": "code",
   "execution_count": 24,
   "id": "acd8cce0",
   "metadata": {
    "execution": {
     "iopub.execute_input": "2021-11-16T09:22:38.956923Z",
     "iopub.status.busy": "2021-11-16T09:22:38.956351Z",
     "iopub.status.idle": "2021-11-16T09:22:38.963244Z",
     "shell.execute_reply": "2021-11-16T09:22:38.963675Z",
     "shell.execute_reply.started": "2021-11-16T09:14:37.830835Z"
    },
    "papermill": {
     "duration": 0.036355,
     "end_time": "2021-11-16T09:22:38.963852",
     "exception": false,
     "start_time": "2021-11-16T09:22:38.927497",
     "status": "completed"
    },
    "tags": []
   },
   "outputs": [],
   "source": [
    "df1= df['Reliability'].value_counts()"
   ]
  },
  {
   "cell_type": "code",
   "execution_count": 25,
   "id": "73af3186",
   "metadata": {
    "execution": {
     "iopub.execute_input": "2021-11-16T09:22:39.026352Z",
     "iopub.status.busy": "2021-11-16T09:22:39.025652Z",
     "iopub.status.idle": "2021-11-16T09:22:39.028358Z",
     "shell.execute_reply": "2021-11-16T09:22:39.028861Z",
     "shell.execute_reply.started": "2021-11-16T09:14:37.845694Z"
    },
    "papermill": {
     "duration": 0.038454,
     "end_time": "2021-11-16T09:22:39.029030",
     "exception": false,
     "start_time": "2021-11-16T09:22:38.990576",
     "status": "completed"
    },
    "tags": []
   },
   "outputs": [
    {
     "data": {
      "text/plain": [
       "Final figure, complete    50837\n",
       "Provisional figure         2026\n",
       "Other estimate              546\n",
       "Name: Reliability, dtype: int64"
      ]
     },
     "execution_count": 25,
     "metadata": {},
     "output_type": "execute_result"
    }
   ],
   "source": [
    "df['Reliability'].value_counts()"
   ]
  },
  {
   "cell_type": "code",
   "execution_count": 26,
   "id": "5a736f99",
   "metadata": {
    "execution": {
     "iopub.execute_input": "2021-11-16T09:22:39.109909Z",
     "iopub.status.busy": "2021-11-16T09:22:39.087440Z",
     "iopub.status.idle": "2021-11-16T09:22:39.397375Z",
     "shell.execute_reply": "2021-11-16T09:22:39.397858Z",
     "shell.execute_reply.started": "2021-11-16T09:14:37.870538Z"
    },
    "papermill": {
     "duration": 0.340899,
     "end_time": "2021-11-16T09:22:39.398033",
     "exception": false,
     "start_time": "2021-11-16T09:22:39.057134",
     "status": "completed"
    },
    "tags": []
   },
   "outputs": [
    {
     "data": {
      "image/png": "[encoded data removed]",
      "text/plain": [
       "<Figure size 432x288 with 1 Axes>"
      ]
     },
     "metadata": {},
     "output_type": "display_data"
    }
   ],
   "source": [
    "plt.pie(df1,autopct='%.0f%%',labels=['Final figure, complete ', 'Provisional figure','Other estimate'],radius=2,explode = (0.3,0.5, 0.5),shadow=True)\n",
    "plt.legend( \n",
    "          title =\"Reliability\",\n",
    "         \n",
    "          bbox_to_anchor =(1, 0.7,0.6, 1))\n",
    "plt.show()"
   ]
  },
  {
   "cell_type": "markdown",
   "id": "33773fad",
   "metadata": {
    "papermill": {
     "duration": 0.028436,
     "end_time": "2021-11-16T09:22:39.455369",
     "exception": false,
     "start_time": "2021-11-16T09:22:39.426933",
     "status": "completed"
    },
    "tags": []
   },
   "source": [
    "# Thank you !!¶\n",
    "Please upvote if you liked my work :):)"
   ]
  }
 ],
 "metadata": {
  "kernelspec": {
   "display_name": "Python 3",
   "language": "python",
   "name": "python3"
  },
  "language_info": {
   "codemirror_mode": {
    "name": "ipython",
    "version": 3
   },
   "file_extension": ".py",
   "mimetype": "text/x-python",
   "name": "python",
   "nbconvert_exporter": "python",
   "pygments_lexer": "ipython3",
   "version": "3.7.10"
  },
  "papermill": {
   "default_parameters": {},
   "duration": 14.445483,
   "end_time": "2021-11-16T09:22:40.094350",
   "environment_variables": {},
   "exception": null,
   "input_path": "__notebook__.ipynb",
   "output_path": "__notebook__.ipynb",
   "parameters": {},
   "start_time": "2021-11-16T09:22:25.648867",
   "version": "2.3.3"
  }
 },
 "nbformat": 4,
 "nbformat_minor": 5
}
